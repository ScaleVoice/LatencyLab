{
 "cells": [
  {
   "cell_type": "code",
   "outputs": [],
   "source": [
    "import json\n",
    "from statistics import mean\n",
    "import pandas as pd\n",
    "import seaborn as sns\n",
    "import matplotlib.pyplot as plt\n",
    "from collections import defaultdict\n",
    "import matplotlib.dates"
   ],
   "metadata": {
    "collapsed": false,
    "ExecuteTime": {
     "end_time": "2024-04-05T14:03:11.538117Z",
     "start_time": "2024-04-05T14:03:11.495699Z"
    }
   },
   "id": "b15fefc8d95fe624",
   "execution_count": 681
  },
  {
   "cell_type": "code",
   "execution_count": 682,
   "id": "initial_id",
   "metadata": {
    "collapsed": true
   },
   "outputs": [],
   "source": [
    "input_csv_file = 'out.csv'"
   ]
  },
  {
   "cell_type": "code",
   "outputs": [],
   "source": [
    "df = pd.read_csv(input_csv_file)\n",
    "df['timestamp'] = pd.to_datetime(df['timestamp'])"
   ],
   "metadata": {
    "collapsed": false,
    "ExecuteTime": {
     "end_time": "2024-04-05T14:03:11.717117Z",
     "start_time": "2024-04-05T14:03:11.562074Z"
    }
   },
   "id": "7dce9ea827f17504",
   "execution_count": 683
  },
  {
   "cell_type": "code",
   "outputs": [
    {
     "data": {
      "text/plain": "                     timestamp  OpenAI_gpt-3.5-turbo-0613 success  \\\n0   2024-04-05 08:54:04.144802                               True   \n1   2024-04-05 08:54:45.221750                               True   \n2   2024-04-05 08:54:58.080303                               True   \n3   2024-04-05 08:55:59.346834                               True   \n4   2024-04-05 08:56:07.438318                               True   \n..                         ...                                ...   \n474 2024-04-05 12:51:47.152863                               True   \n475 2024-04-05 12:52:19.194390                               True   \n476 2024-04-05 12:52:47.265670                               True   \n477 2024-04-05 12:53:18.484529                               True   \n478 2024-04-05 12:53:52.784406                               True   \n\n     OpenAI_gpt-3.5-turbo-0613 output_characters  \\\n0                                            493   \n1                                            493   \n2                                            493   \n3                                            493   \n4                                            493   \n..                                           ...   \n474                                          493   \n475                                          493   \n476                                          493   \n477                                          493   \n478                                          493   \n\n     OpenAI_gpt-3.5-turbo-0613 first_token_time_seconds  \\\n0                                             0.367718    \n1                                             0.443277    \n2                                             0.954071    \n3                                             0.513437    \n4                                             0.489830    \n..                                                 ...    \n474                                           0.339886    \n475                                           0.717799    \n476                                           0.344106    \n477                                           0.570938    \n478                                           0.364793    \n\n     OpenAI_gpt-3.5-turbo-0613 first_sentence_time_seconds  \\\n0                                             0.513484       \n1                                             0.580211       \n2                                             1.173532       \n3                                             0.649116       \n4                                             0.629069       \n..                                                 ...       \n474                                           0.516188       \n475                                           0.751579       \n476                                           0.501259       \n477                                           0.778046       \n478                                           0.537280       \n\n     OpenAI_gpt-3.5-turbo-0613 total_request_time_seconds  \\\n0                                             1.226745      \n1                                             1.284911      \n2                                             1.847193      \n3                                             1.337490      \n4                                             1.313012      \n..                                                 ...      \n474                                           1.454693      \n475                                           1.787066      \n476                                           1.302861      \n477                                           1.598528      \n478                                           1.391996      \n\n         OpenAI_gpt-3.5-turbo-0613 chunks_time_seconds  \\\n0    [0.026351213455200195, 0.00017762184143066406,...   \n1    [0.022695064544677734, 0.0001766681671142578, ...   \n2    [0.030196666717529297, 0.0001633167266845703, ...   \n3    [0.00017023086547851562, 0.0002424716949462890...   \n4    [0.02596902847290039, 0.0001633167266845703, 0...   \n..                                                 ...   \n474  [0.035730600357055664, 0.00017189979553222656,...   \n475  [0.0001785755157470703, 0.0002503395080566406,...   \n476  [0.029307126998901367, 0.00016927719116210938,...   \n477  [0.03412485122680664, 0.00016570091247558594, ...   \n478  [0.0512995719909668, 0.00016951560974121094, 0...   \n\n     OpenAI_gpt-3.5-turbo-0125 success  \\\n0                                 True   \n1                                 True   \n2                                 True   \n3                                 True   \n4                                 True   \n..                                 ...   \n474                               True   \n475                               True   \n476                               True   \n477                               True   \n478                               True   \n\n     OpenAI_gpt-3.5-turbo-0125 output_characters  \\\n0                                            572   \n1                                            572   \n2                                            512   \n3                                            586   \n4                                            487   \n..                                           ...   \n474                                          512   \n475                                          591   \n476                                          512   \n477                                          589   \n478                                          391   \n\n     OpenAI_gpt-3.5-turbo-0125 first_token_time_seconds  ...  \\\n0                                             0.984307   ...   \n1                                             0.804435   ...   \n2                                             0.463680   ...   \n3                                             0.897318   ...   \n4                                             0.918361   ...   \n..                                                 ...   ...   \n474                                           0.301437   ...   \n475                                           0.620947   ...   \n476                                           0.437146   ...   \n477                                           0.379572   ...   \n478                                           0.499621   ...   \n\n     Azure_gpt-4-1106-preview first_token_time_seconds  \\\n0                                             3.557844   \n1                                            15.254819   \n2                                             1.727435   \n3                                             0.000000   \n4                                             1.809049   \n..                                                 ...   \n474                                           1.790291   \n475                                           5.131990   \n476                                           2.289865   \n477                                           3.322076   \n478                                           3.561409   \n\n     Azure_gpt-4-1106-preview first_sentence_time_seconds  \\\n0                                             3.562629      \n1                                            15.259835      \n2                                             1.732477      \n3                                             0.000000      \n4                                             1.814747      \n..                                                 ...      \n474                                           1.795321      \n475                                           5.138554      \n476                                           2.294828      \n477                                           3.333693      \n478                                           3.566933      \n\n    Azure_gpt-4-1106-preview total_request_time_seconds  \\\n0                                            10.723284    \n1                                            23.070081    \n2                                             5.137654    \n3                                             0.000000    \n4                                             8.065334    \n..                                                 ...    \n474                                           7.390486    \n475                                           9.427131    \n476                                           7.499413    \n477                                           8.716894    \n478                                          13.016798    \n\n          Azure_gpt-4-1106-preview chunks_time_seconds  \\\n0    [0.00032973289489746094, 3.1598007678985596, 0...   \n1    [0.00032639503479003906, 9.591192722320557, 0....   \n2    [0.0004088878631591797, 1.3246839046478271, 0....   \n3                                                   []   \n4    [0.00021910667419433594, 1.4208316802978516, 0...   \n..                                                 ...   \n474  [0.0002875328063964844, 1.2774693965911865, 0....   \n475  [0.00032401084899902344, 4.641822099685669, 0....   \n476  [0.00030112266540527344, 1.837409496307373, 0....   \n477  [0.0002963542938232422, 1.9504432678222656, 0....   \n478  [0.0003147125244140625, 2.821227550506592, 0.0...   \n\n     Azure_gpt-3.5-turbo-0613 success  \\\n0                                True   \n1                                True   \n2                                True   \n3                                True   \n4                                True   \n..                                ...   \n474                              True   \n475                              True   \n476                              True   \n477                              True   \n478                              True   \n\n     Azure_gpt-3.5-turbo-0613 output_characters  \\\n0                                           493   \n1                                           493   \n2                                           493   \n3                                           493   \n4                                           493   \n..                                          ...   \n474                                         493   \n475                                         493   \n476                                         493   \n477                                         493   \n478                                         493   \n\n     Azure_gpt-3.5-turbo-0613 first_token_time_seconds  \\\n0                                             0.580326   \n1                                             0.546610   \n2                                             0.448620   \n3                                             0.466268   \n4                                             0.440338   \n..                                                 ...   \n474                                           0.567715   \n475                                           0.735197   \n476                                           0.354743   \n477                                           0.456194   \n478                                           0.510103   \n\n     Azure_gpt-3.5-turbo-0613 first_sentence_time_seconds  \\\n0                                             0.583024      \n1                                             0.549194      \n2                                             0.451217      \n3                                             0.468670      \n4                                             0.443052      \n..                                                 ...      \n474                                           0.570399      \n475                                           0.737764      \n476                                           0.357390      \n477                                           0.458905      \n478                                           0.512697      \n\n    Azure_gpt-3.5-turbo-0613 total_request_time_seconds  \\\n0                                             1.335795    \n1                                             1.332726    \n2                                             1.228586    \n3                                             1.057621    \n4                                             0.983467    \n..                                                 ...    \n474                                           1.271996    \n475                                           1.584778    \n476                                           0.938646    \n477                                           1.243726    \n478                                           1.217998    \n\n          Azure_gpt-3.5-turbo-0613 chunks_time_seconds  \n0    [0.0010137557983398438, 0.3710341453552246, 0....  \n1    [0.000244140625, 0.30342841148376465, 0.000169...  \n2    [0.0003352165222167969, 0.28115129470825195, 0...  \n3    [0.00030493736267089844, 0.2541530132293701, 0...  \n4    [0.0003142356872558594, 0.24433279037475586, 0...  \n..                                                 ...  \n474  [0.0003218650817871094, 0.3690938949584961, 0....  \n475  [0.00023889541625976562, 0.3881232738494873, 0...  \n476  [0.00033211708068847656, 0.17971301078796387, ...  \n477  [0.0003256797790527344, 0.29770994186401367, 0...  \n478  [0.0003235340118408203, 0.29775333404541016, 0...  \n\n[479 rows x 37 columns]",
      "text/html": "<div>\n<style scoped>\n    .dataframe tbody tr th:only-of-type {\n        vertical-align: middle;\n    }\n\n    .dataframe tbody tr th {\n        vertical-align: top;\n    }\n\n    .dataframe thead th {\n        text-align: right;\n    }\n</style>\n<table border=\"1\" class=\"dataframe\">\n  <thead>\n    <tr style=\"text-align: right;\">\n      <th></th>\n      <th>timestamp</th>\n      <th>OpenAI_gpt-3.5-turbo-0613 success</th>\n      <th>OpenAI_gpt-3.5-turbo-0613 output_characters</th>\n      <th>OpenAI_gpt-3.5-turbo-0613 first_token_time_seconds</th>\n      <th>OpenAI_gpt-3.5-turbo-0613 first_sentence_time_seconds</th>\n      <th>OpenAI_gpt-3.5-turbo-0613 total_request_time_seconds</th>\n      <th>OpenAI_gpt-3.5-turbo-0613 chunks_time_seconds</th>\n      <th>OpenAI_gpt-3.5-turbo-0125 success</th>\n      <th>OpenAI_gpt-3.5-turbo-0125 output_characters</th>\n      <th>OpenAI_gpt-3.5-turbo-0125 first_token_time_seconds</th>\n      <th>...</th>\n      <th>Azure_gpt-4-1106-preview first_token_time_seconds</th>\n      <th>Azure_gpt-4-1106-preview first_sentence_time_seconds</th>\n      <th>Azure_gpt-4-1106-preview total_request_time_seconds</th>\n      <th>Azure_gpt-4-1106-preview chunks_time_seconds</th>\n      <th>Azure_gpt-3.5-turbo-0613 success</th>\n      <th>Azure_gpt-3.5-turbo-0613 output_characters</th>\n      <th>Azure_gpt-3.5-turbo-0613 first_token_time_seconds</th>\n      <th>Azure_gpt-3.5-turbo-0613 first_sentence_time_seconds</th>\n      <th>Azure_gpt-3.5-turbo-0613 total_request_time_seconds</th>\n      <th>Azure_gpt-3.5-turbo-0613 chunks_time_seconds</th>\n    </tr>\n  </thead>\n  <tbody>\n    <tr>\n      <th>0</th>\n      <td>2024-04-05 08:54:04.144802</td>\n      <td>True</td>\n      <td>493</td>\n      <td>0.367718</td>\n      <td>0.513484</td>\n      <td>1.226745</td>\n      <td>[0.026351213455200195, 0.00017762184143066406,...</td>\n      <td>True</td>\n      <td>572</td>\n      <td>0.984307</td>\n      <td>...</td>\n      <td>3.557844</td>\n      <td>3.562629</td>\n      <td>10.723284</td>\n      <td>[0.00032973289489746094, 3.1598007678985596, 0...</td>\n      <td>True</td>\n      <td>493</td>\n      <td>0.580326</td>\n      <td>0.583024</td>\n      <td>1.335795</td>\n      <td>[0.0010137557983398438, 0.3710341453552246, 0....</td>\n    </tr>\n    <tr>\n      <th>1</th>\n      <td>2024-04-05 08:54:45.221750</td>\n      <td>True</td>\n      <td>493</td>\n      <td>0.443277</td>\n      <td>0.580211</td>\n      <td>1.284911</td>\n      <td>[0.022695064544677734, 0.0001766681671142578, ...</td>\n      <td>True</td>\n      <td>572</td>\n      <td>0.804435</td>\n      <td>...</td>\n      <td>15.254819</td>\n      <td>15.259835</td>\n      <td>23.070081</td>\n      <td>[0.00032639503479003906, 9.591192722320557, 0....</td>\n      <td>True</td>\n      <td>493</td>\n      <td>0.546610</td>\n      <td>0.549194</td>\n      <td>1.332726</td>\n      <td>[0.000244140625, 0.30342841148376465, 0.000169...</td>\n    </tr>\n    <tr>\n      <th>2</th>\n      <td>2024-04-05 08:54:58.080303</td>\n      <td>True</td>\n      <td>493</td>\n      <td>0.954071</td>\n      <td>1.173532</td>\n      <td>1.847193</td>\n      <td>[0.030196666717529297, 0.0001633167266845703, ...</td>\n      <td>True</td>\n      <td>512</td>\n      <td>0.463680</td>\n      <td>...</td>\n      <td>1.727435</td>\n      <td>1.732477</td>\n      <td>5.137654</td>\n      <td>[0.0004088878631591797, 1.3246839046478271, 0....</td>\n      <td>True</td>\n      <td>493</td>\n      <td>0.448620</td>\n      <td>0.451217</td>\n      <td>1.228586</td>\n      <td>[0.0003352165222167969, 0.28115129470825195, 0...</td>\n    </tr>\n    <tr>\n      <th>3</th>\n      <td>2024-04-05 08:55:59.346834</td>\n      <td>True</td>\n      <td>493</td>\n      <td>0.513437</td>\n      <td>0.649116</td>\n      <td>1.337490</td>\n      <td>[0.00017023086547851562, 0.0002424716949462890...</td>\n      <td>True</td>\n      <td>586</td>\n      <td>0.897318</td>\n      <td>...</td>\n      <td>0.000000</td>\n      <td>0.000000</td>\n      <td>0.000000</td>\n      <td>[]</td>\n      <td>True</td>\n      <td>493</td>\n      <td>0.466268</td>\n      <td>0.468670</td>\n      <td>1.057621</td>\n      <td>[0.00030493736267089844, 0.2541530132293701, 0...</td>\n    </tr>\n    <tr>\n      <th>4</th>\n      <td>2024-04-05 08:56:07.438318</td>\n      <td>True</td>\n      <td>493</td>\n      <td>0.489830</td>\n      <td>0.629069</td>\n      <td>1.313012</td>\n      <td>[0.02596902847290039, 0.0001633167266845703, 0...</td>\n      <td>True</td>\n      <td>487</td>\n      <td>0.918361</td>\n      <td>...</td>\n      <td>1.809049</td>\n      <td>1.814747</td>\n      <td>8.065334</td>\n      <td>[0.00021910667419433594, 1.4208316802978516, 0...</td>\n      <td>True</td>\n      <td>493</td>\n      <td>0.440338</td>\n      <td>0.443052</td>\n      <td>0.983467</td>\n      <td>[0.0003142356872558594, 0.24433279037475586, 0...</td>\n    </tr>\n    <tr>\n      <th>...</th>\n      <td>...</td>\n      <td>...</td>\n      <td>...</td>\n      <td>...</td>\n      <td>...</td>\n      <td>...</td>\n      <td>...</td>\n      <td>...</td>\n      <td>...</td>\n      <td>...</td>\n      <td>...</td>\n      <td>...</td>\n      <td>...</td>\n      <td>...</td>\n      <td>...</td>\n      <td>...</td>\n      <td>...</td>\n      <td>...</td>\n      <td>...</td>\n      <td>...</td>\n      <td>...</td>\n    </tr>\n    <tr>\n      <th>474</th>\n      <td>2024-04-05 12:51:47.152863</td>\n      <td>True</td>\n      <td>493</td>\n      <td>0.339886</td>\n      <td>0.516188</td>\n      <td>1.454693</td>\n      <td>[0.035730600357055664, 0.00017189979553222656,...</td>\n      <td>True</td>\n      <td>512</td>\n      <td>0.301437</td>\n      <td>...</td>\n      <td>1.790291</td>\n      <td>1.795321</td>\n      <td>7.390486</td>\n      <td>[0.0002875328063964844, 1.2774693965911865, 0....</td>\n      <td>True</td>\n      <td>493</td>\n      <td>0.567715</td>\n      <td>0.570399</td>\n      <td>1.271996</td>\n      <td>[0.0003218650817871094, 0.3690938949584961, 0....</td>\n    </tr>\n    <tr>\n      <th>475</th>\n      <td>2024-04-05 12:52:19.194390</td>\n      <td>True</td>\n      <td>493</td>\n      <td>0.717799</td>\n      <td>0.751579</td>\n      <td>1.787066</td>\n      <td>[0.0001785755157470703, 0.0002503395080566406,...</td>\n      <td>True</td>\n      <td>591</td>\n      <td>0.620947</td>\n      <td>...</td>\n      <td>5.131990</td>\n      <td>5.138554</td>\n      <td>9.427131</td>\n      <td>[0.00032401084899902344, 4.641822099685669, 0....</td>\n      <td>True</td>\n      <td>493</td>\n      <td>0.735197</td>\n      <td>0.737764</td>\n      <td>1.584778</td>\n      <td>[0.00023889541625976562, 0.3881232738494873, 0...</td>\n    </tr>\n    <tr>\n      <th>476</th>\n      <td>2024-04-05 12:52:47.265670</td>\n      <td>True</td>\n      <td>493</td>\n      <td>0.344106</td>\n      <td>0.501259</td>\n      <td>1.302861</td>\n      <td>[0.029307126998901367, 0.00016927719116210938,...</td>\n      <td>True</td>\n      <td>512</td>\n      <td>0.437146</td>\n      <td>...</td>\n      <td>2.289865</td>\n      <td>2.294828</td>\n      <td>7.499413</td>\n      <td>[0.00030112266540527344, 1.837409496307373, 0....</td>\n      <td>True</td>\n      <td>493</td>\n      <td>0.354743</td>\n      <td>0.357390</td>\n      <td>0.938646</td>\n      <td>[0.00033211708068847656, 0.17971301078796387, ...</td>\n    </tr>\n    <tr>\n      <th>477</th>\n      <td>2024-04-05 12:53:18.484529</td>\n      <td>True</td>\n      <td>493</td>\n      <td>0.570938</td>\n      <td>0.778046</td>\n      <td>1.598528</td>\n      <td>[0.03412485122680664, 0.00016570091247558594, ...</td>\n      <td>True</td>\n      <td>589</td>\n      <td>0.379572</td>\n      <td>...</td>\n      <td>3.322076</td>\n      <td>3.333693</td>\n      <td>8.716894</td>\n      <td>[0.0002963542938232422, 1.9504432678222656, 0....</td>\n      <td>True</td>\n      <td>493</td>\n      <td>0.456194</td>\n      <td>0.458905</td>\n      <td>1.243726</td>\n      <td>[0.0003256797790527344, 0.29770994186401367, 0...</td>\n    </tr>\n    <tr>\n      <th>478</th>\n      <td>2024-04-05 12:53:52.784406</td>\n      <td>True</td>\n      <td>493</td>\n      <td>0.364793</td>\n      <td>0.537280</td>\n      <td>1.391996</td>\n      <td>[0.0512995719909668, 0.00016951560974121094, 0...</td>\n      <td>True</td>\n      <td>391</td>\n      <td>0.499621</td>\n      <td>...</td>\n      <td>3.561409</td>\n      <td>3.566933</td>\n      <td>13.016798</td>\n      <td>[0.0003147125244140625, 2.821227550506592, 0.0...</td>\n      <td>True</td>\n      <td>493</td>\n      <td>0.510103</td>\n      <td>0.512697</td>\n      <td>1.217998</td>\n      <td>[0.0003235340118408203, 0.29775333404541016, 0...</td>\n    </tr>\n  </tbody>\n</table>\n<p>479 rows × 37 columns</p>\n</div>"
     },
     "execution_count": 684,
     "metadata": {},
     "output_type": "execute_result"
    }
   ],
   "source": [
    "df"
   ],
   "metadata": {
    "collapsed": false,
    "ExecuteTime": {
     "end_time": "2024-04-05T14:03:11.746420Z",
     "start_time": "2024-04-05T14:03:11.719065Z"
    }
   },
   "id": "62e666d89c19d3ac",
   "execution_count": 684
  },
  {
   "cell_type": "code",
   "outputs": [],
   "source": [
    "plt.figure(figsize=(16, 9), dpi=300)\n",
    "\n",
    "plt.subplot(2, 2, 1)\n",
    "\n",
    "gpt_4_models = [\"gpt-4-1106-preview\", \"gpt-4-0125-preview\"]\n",
    "gpt_3_models = [\"gpt-3.5-turbo-0613\", \"gpt-3.5-turbo-0125\"]\n",
    "\n",
    "models = gpt_4_models + gpt_3_models\n",
    "providers = [\"OpenAI\", \"Azure\"]\n",
    "\n",
    "for model in models:\n",
    "    for provider in providers:\n",
    "        column_name = f'{provider}_{model} total_request_time_seconds'\n",
    "        if column_name not in df.columns:\n",
    "            continue\n",
    "        \n",
    "        sns.lineplot(x='timestamp', y=column_name, data=df, label=f'{provider} {model}', linestyle=\"--\" if provider == \"Azure\" else \"-\")\n",
    "\n",
    "plt.xlabel('Time')\n",
    "plt.ylabel('Seconds')\n",
    "plt.title('Total Request time')\n",
    "plt.xticks(rotation=45)\n",
    "plt.legend()\n",
    "\n",
    "plt.subplot(2, 2, 2)\n",
    "for model in models:\n",
    "    for provider in providers:\n",
    "        column_name = f'{provider}_{model} first_token_time_seconds'\n",
    "        if column_name not in df.columns:\n",
    "            continue\n",
    "        \n",
    "        sns.lineplot(x='timestamp', y=column_name, data=df, label=f'{provider} {model}', linestyle=\"--\" if provider == \"Azure\" else \"-\")\n",
    "\n",
    "plt.xlabel('Time')\n",
    "plt.ylabel('Seconds')\n",
    "plt.title('Time to first token')\n",
    "plt.xticks(rotation=45)\n",
    "plt.legend()\n",
    "\n",
    "plt.subplot(2, 2, 3)\n",
    "for model in models:\n",
    "    for provider in providers:\n",
    "        column_name = f'{provider}_{model} first_sentence_time_seconds'\n",
    "        if column_name not in df.columns:\n",
    "            continue\n",
    "        \n",
    "        sns.lineplot(x='timestamp', y=column_name, data=df, label=f'{provider} {model}', linestyle=\"--\" if provider == \"Azure\" else \"-\")\n",
    "\n",
    "plt.xlabel('Time')\n",
    "plt.ylabel('Seconds')\n",
    "plt.title('Time to first sentence')\n",
    "plt.xticks(rotation=45)\n",
    "plt.legend()\n",
    "\n",
    "plt.subplot(2, 2, 4)\n",
    "for model in models:\n",
    "    for provider in providers:\n",
    "        column_name = f'{provider}_{model} output_characters'\n",
    "        if column_name not in df.columns:\n",
    "            continue\n",
    "        \n",
    "        sns.lineplot(x='timestamp', y=column_name, data=df, label=f'{provider} {model}', linestyle=\"--\" if provider == \"Azure\" else \"-\")\n",
    "\n",
    "plt.xlabel('Time')\n",
    "plt.ylabel('Seconds')\n",
    "plt.title('Number of generated characters')\n",
    "plt.xticks(rotation=45)\n",
    "plt.legend()\n",
    "\n",
    "plt.tight_layout()\n",
    "plt.savefig('misc/line_charts.png')\n",
    "plt.close()"
   ],
   "metadata": {
    "collapsed": false,
    "ExecuteTime": {
     "end_time": "2024-04-05T14:03:14.287413Z",
     "start_time": "2024-04-05T14:03:11.747649Z"
    }
   },
   "id": "2e6938194eae1337",
   "execution_count": 685
  },
  {
   "cell_type": "code",
   "outputs": [],
   "source": [
    "def plot_models(_models, col_name, col_title, file_name):\n",
    "\n",
    "    plt.figure(figsize=(16, 9), dpi=300)\n",
    "    \n",
    "    added_labels = set()\n",
    "    \n",
    "    for model in _models:\n",
    "        for provider in providers:\n",
    "            column_name = f'{provider}_{model} {col_name}'\n",
    "            success_column_name = f'{provider}_{model} success'\n",
    "            \n",
    "            if column_name not in df.columns:\n",
    "                continue\n",
    "                \n",
    "            filtered_df = df[df[success_column_name] == True]    \n",
    "            sns.lineplot(x='timestamp', y=column_name, data=filtered_df, label=f'{provider} {model}', linestyle=\"--\" if provider == \"Azure\" else \"-\")\n",
    "            \n",
    "            failure_dates = df['timestamp'][df[success_column_name] == False].unique()\n",
    "            for date in failure_dates:\n",
    "                failure_label = f'{provider} {model} API Timeout'\n",
    "                \n",
    "                if failure_label not in added_labels:\n",
    "                    plt.axvline(x=date, color='r', linestyle=\"dashdot\" if provider == \"Azure\" else \"dotted\", linewidth=1, label=failure_label)\n",
    "                    added_labels.add(failure_label)\n",
    "                else:\n",
    "                    plt.axvline(x=date, color='r', linestyle=\"dashdot\" if provider == \"Azure\" else \"dotted\", linewidth=1, label=None)\n",
    "                \n",
    "    ax = plt.gca()\n",
    "    ax.xaxis.set_major_formatter(matplotlib.dates.DateFormatter('%H:%M UTC'))\n",
    "    \n",
    "            \n",
    "    plt.xlabel('Time')\n",
    "    plt.ylabel('Seconds')\n",
    "    plt.title(col_title)\n",
    "    plt.xticks(rotation=45)\n",
    "    plt.savefig(file_name)\n",
    "    plt.legend()\n",
    "    plt.close()\n"
   ],
   "metadata": {
    "collapsed": false,
    "ExecuteTime": {
     "end_time": "2024-04-05T14:03:14.298409Z",
     "start_time": "2024-04-05T14:03:14.289305Z"
    }
   },
   "id": "4d7f2697df917c16",
   "execution_count": 686
  },
  {
   "cell_type": "markdown",
   "source": [],
   "metadata": {
    "collapsed": false
   },
   "id": "a3805be33c8b93a1"
  },
  {
   "cell_type": "code",
   "outputs": [],
   "source": [
    "plot_models(gpt_4_models, \"total_request_time_seconds\", \"GPT-4 Total Request time\", \"misc/gpt_4_total_request_time_seconds.png\")\n",
    "plot_models(gpt_3_models, \"total_request_time_seconds\", \"GPT-3 Total Request time\", \"misc/gpt_3_total_request_time_seconds.png\")"
   ],
   "metadata": {
    "collapsed": false,
    "ExecuteTime": {
     "end_time": "2024-04-05T14:03:16.240765Z",
     "start_time": "2024-04-05T14:03:14.299131Z"
    }
   },
   "id": "4dc37d1fe0182cb8",
   "execution_count": 687
  },
  {
   "cell_type": "code",
   "outputs": [],
   "source": [
    "plot_models(gpt_4_models, \"first_token_time_seconds\", \"GPT-4 Time to first token\", \"misc/gpt_4_first_token_time_seconds.png\")\n",
    "plot_models(gpt_3_models, \"first_token_time_seconds\", \"GPT-3 Time to first token\", \"misc/gpt_3_first_token_time_seconds.png\")"
   ],
   "metadata": {
    "collapsed": false,
    "ExecuteTime": {
     "end_time": "2024-04-05T14:03:18.143825Z",
     "start_time": "2024-04-05T14:03:16.241487Z"
    }
   },
   "id": "55137ac1b7f560b2",
   "execution_count": 688
  },
  {
   "cell_type": "code",
   "outputs": [],
   "source": [
    "plot_models(gpt_4_models, \"first_sentence_time_seconds\", \"GPT-4 Time to first finished sentence\", \"misc/gpt_4_first_sentence_time_seconds.png\")\n",
    "plot_models(gpt_3_models, \"first_sentence_time_seconds\", \"GPT-3 Time to first finished sentence\", \"misc/gpt_3_first_sentence_time_seconds.png\")"
   ],
   "metadata": {
    "collapsed": false,
    "ExecuteTime": {
     "end_time": "2024-04-05T14:03:20.012928Z",
     "start_time": "2024-04-05T14:03:18.145020Z"
    }
   },
   "id": "f5668c8bd1614b3",
   "execution_count": 689
  },
  {
   "cell_type": "code",
   "outputs": [],
   "source": [
    "import matplotlib.pyplot as plt\n",
    "import seaborn as sns\n",
    "\n",
    "def plot_models_failure_bar_chart(_models, col_title, file_name):\n",
    "    plt.figure(figsize=(16, 9), dpi=300)\n",
    "    \n",
    "    failure_counts = [] \n",
    "    labels = []\n",
    "    \n",
    "    for model in _models:\n",
    "        for provider in providers:\n",
    "            success_column_name = f'{provider}_{model} success'\n",
    "            \n",
    "            if success_column_name not in df.columns:\n",
    "                continue\n",
    "            \n",
    "            failure_df = df[df[success_column_name] == False]\n",
    "            \n",
    "            failure_counts.append(failure_df.shape[0])\n",
    "            labels.append(f'{provider} {model}')\n",
    "    \n",
    "\n",
    "    sns.barplot(x=labels, y=failure_counts)\n",
    "    \n",
    "    plt.ylabel('Number of Failures')\n",
    "    plt.title(col_title)\n",
    "    plt.savefig(file_name)\n",
    "    \n",
    "    plt.close()\n"
   ],
   "metadata": {
    "collapsed": false,
    "ExecuteTime": {
     "end_time": "2024-04-05T14:03:20.020492Z",
     "start_time": "2024-04-05T14:03:20.016406Z"
    }
   },
   "id": "38d8c899554dc0c4",
   "execution_count": 690
  },
  {
   "cell_type": "code",
   "outputs": [],
   "source": [
    "plot_models_failure_bar_chart(gpt_4_models, \"GPT-4 Number of failures to finish the request in time\", \"misc/gpt_4_num_failures.png\")\n",
    "plot_models_failure_bar_chart(gpt_3_models, \"GPT-3 Number of failures to finish the request in time\", \"misc/gpt_3_num_failures.png\") "
   ],
   "metadata": {
    "collapsed": false,
    "ExecuteTime": {
     "end_time": "2024-04-05T14:03:21.417233Z",
     "start_time": "2024-04-05T14:03:20.021110Z"
    }
   },
   "id": "b34793a183032fa7",
   "execution_count": 691
  },
  {
   "cell_type": "code",
   "outputs": [],
   "source": [
    "def plot_models_time_per_chunk(_models, col_title, file_name):\n",
    "    plt.figure(figsize=(16, 9), dpi=300)\n",
    "    \n",
    "    boxplot_data = []\n",
    "    labels = []\n",
    "    \n",
    "    for model in _models:\n",
    "        for provider in providers:\n",
    "            column_name = f'{provider}_{model} chunks_time_seconds'\n",
    "            success_column_name = f'{provider}_{model} success'\n",
    "            \n",
    "            if column_name not in df.columns:\n",
    "                continue\n",
    "\n",
    "            filtered_df = df[df[success_column_name] == True]\n",
    "\n",
    "            for index, row in filtered_df.iterrows():\n",
    "                \n",
    "                for chunk_time in json.loads(row[column_name]):\n",
    "                    boxplot_data.append(chunk_time)\n",
    "                    labels.append(f'{provider} {model}')\n",
    "\n",
    "    plot_df = pd.DataFrame({'Seconds': boxplot_data, 'Model': labels})\n",
    "    \n",
    "    sns.boxplot(x='Model', y='Seconds', data=plot_df)\n",
    "    \n",
    "    plt.title(col_title)\n",
    "    plt.savefig(file_name)\n",
    "    plt.close()"
   ],
   "metadata": {
    "collapsed": false,
    "ExecuteTime": {
     "end_time": "2024-04-05T14:03:21.421821Z",
     "start_time": "2024-04-05T14:03:21.417981Z"
    }
   },
   "id": "42cf634673793438",
   "execution_count": 692
  },
  {
   "cell_type": "code",
   "outputs": [],
   "source": [
    "plot_models_time_per_chunk(gpt_4_models, \"GPT-4 Time between each streaming chunk\", \"misc/gpt_4_chunks_timing.png\")\n",
    "plot_models_time_per_chunk(gpt_3_models, \"GPT-3 Time between each streaming chunk\", \"misc/gpt_3_chunks_timing.png\")"
   ],
   "metadata": {
    "collapsed": false,
    "ExecuteTime": {
     "end_time": "2024-04-05T14:03:23.534717Z",
     "start_time": "2024-04-05T14:03:21.422554Z"
    }
   },
   "id": "903a32780f051532",
   "execution_count": 693
  },
  {
   "cell_type": "code",
   "outputs": [],
   "source": [
    "def plot_models_time_per_chunk_line(_models, col_title, file_name):\n",
    "    plt.figure(figsize=(16, 9), dpi=300)\n",
    "    \n",
    "    for model in _models:\n",
    "        for provider in providers:\n",
    "            column_name = f'{provider}_{model} chunks_time_seconds'\n",
    "            success_column_name = f'{provider}_{model} success'\n",
    "            \n",
    "            if column_name not in df.columns:\n",
    "                continue\n",
    "\n",
    "            filtered_df = df[df[success_column_name] == True]\n",
    "            \n",
    "            chunk_times = []\n",
    "            chunk_nums = []\n",
    "\n",
    "            for index, row in filtered_df.iterrows():\n",
    "                \n",
    "                for i, chunk_time in enumerate(json.loads(row[column_name])):\n",
    "                    chunk_times.append(chunk_time)\n",
    "                    chunk_nums.append(i)\n",
    "\n",
    "            plot_df = pd.DataFrame({'Seconds': chunk_times, \"Chunk Number\": chunk_nums})\n",
    "            sns.lineplot(x='Chunk Number', y='Seconds', data=plot_df, label=f'{provider} {model}')\n",
    "\n",
    "\n",
    "    plt.title(col_title)\n",
    "\n",
    "    plt.savefig(file_name)\n",
    "    plt.close()"
   ],
   "metadata": {
    "collapsed": false,
    "ExecuteTime": {
     "end_time": "2024-04-05T14:03:23.539108Z",
     "start_time": "2024-04-05T14:03:23.535431Z"
    }
   },
   "id": "1350536dbcda6a80",
   "execution_count": 694
  },
  {
   "cell_type": "code",
   "outputs": [],
   "source": [
    "plot_models_time_per_chunk_line(gpt_4_models, \"GPT-4 Time between each streaming chunk\", \"misc/gpt_4_chunks_timing_line.png\")\n",
    "plot_models_time_per_chunk_line(gpt_3_models, \"GPT-3 Time between each streaming chunk\", \"misc/gpt_3_chunks_timing_line.png\")"
   ],
   "metadata": {
    "collapsed": false,
    "ExecuteTime": {
     "end_time": "2024-04-05T14:03:31.021336Z",
     "start_time": "2024-04-05T14:03:23.539645Z"
    }
   },
   "id": "60ee864f5dd3bd3c",
   "execution_count": 695
  },
  {
   "cell_type": "code",
   "outputs": [],
   "source": [
    "\n",
    "\n",
    "def plot_models_time_per_chunk_mean(_models, col_title, file_name):\n",
    "    plt.figure(figsize=(16, 9), dpi=300)\n",
    "    \n",
    "    model_provider_values = defaultdict(list)\n",
    "    \n",
    "    for model in _models:\n",
    "        for provider in providers:\n",
    "            column_name = f'{provider}_{model} chunks_time_seconds'\n",
    "            success_column_name = f'{provider}_{model} success'\n",
    "            \n",
    "            if column_name not in df.columns:\n",
    "                continue\n",
    "\n",
    "            filtered_df = df[df[success_column_name] == True]\n",
    "            \n",
    "            for index, row in filtered_df.iterrows():\n",
    "                for chunk_time in json.loads(row[column_name]):\n",
    "                    model_provider_values[f'{provider} {model}'].append(chunk_time)\n",
    "\n",
    "    model_means = []\n",
    "    model_labels = []\n",
    "    \n",
    "    for key, value in model_provider_values.items():\n",
    "        model_means.append(sum(value) / len(value))\n",
    "        model_labels.append(key)\n",
    "\n",
    "    sns.barplot(x=model_labels, y=model_means)\n",
    "\n",
    "    plt.title(col_title)\n",
    "    plt.savefig(file_name)\n",
    "    plt.close()"
   ],
   "metadata": {
    "collapsed": false,
    "ExecuteTime": {
     "end_time": "2024-04-05T14:03:31.026323Z",
     "start_time": "2024-04-05T14:03:31.022535Z"
    }
   },
   "id": "4f791a6498a6e897",
   "execution_count": 696
  },
  {
   "cell_type": "code",
   "outputs": [],
   "source": [
    "plot_models_time_per_chunk_mean(gpt_4_models, \"GPT-4 Mean of time between chunks\", \"misc/gpt_4_chunks_timing_means.png\")\n",
    "plot_models_time_per_chunk_mean(gpt_3_models, \"GPT-3 Mean of time between chunks\", \"misc/gpt_3_chunks_timing_means.png\")"
   ],
   "metadata": {
    "collapsed": false,
    "ExecuteTime": {
     "end_time": "2024-04-05T14:03:33.120702Z",
     "start_time": "2024-04-05T14:03:31.026947Z"
    }
   },
   "id": "50ed698113e9188a",
   "execution_count": 697
  },
  {
   "cell_type": "code",
   "outputs": [],
   "source": [
    "from statistics import median\n",
    "\n",
    "\n",
    "def plot_models_time_per_chunk_median(_models, col_title, file_name):\n",
    "    plt.figure(figsize=(16, 9), dpi=300)\n",
    "    \n",
    "    model_provider_values = defaultdict(list)\n",
    "    \n",
    "    for model in _models:\n",
    "        for provider in providers:\n",
    "            column_name = f'{provider}_{model} chunks_time_seconds'\n",
    "            success_column_name = f'{provider}_{model} success'\n",
    "            \n",
    "            if column_name not in df.columns:\n",
    "                continue\n",
    "\n",
    "            filtered_df = df[df[success_column_name] == True]\n",
    "            \n",
    "            for index, row in filtered_df.iterrows():\n",
    "                for chunk_time in json.loads(row[column_name]):\n",
    "                    model_provider_values[f'{provider} {model}'].append(chunk_time)\n",
    "\n",
    "    model_means = []\n",
    "    model_labels = []\n",
    "    \n",
    "    for key, value in model_provider_values.items():\n",
    "        model_means.append(median(value))\n",
    "        model_labels.append(key)\n",
    "\n",
    "    sns.barplot(x=model_labels, y=model_means)\n",
    "\n",
    "    plt.title(col_title)\n",
    "    plt.savefig(file_name)\n",
    "    plt.close()\n"
   ],
   "metadata": {
    "collapsed": false,
    "ExecuteTime": {
     "end_time": "2024-04-05T14:03:33.140589Z",
     "start_time": "2024-04-05T14:03:33.126089Z"
    }
   },
   "id": "6076d0baf657fd38",
   "execution_count": 698
  },
  {
   "cell_type": "code",
   "outputs": [],
   "source": [
    "plot_models_time_per_chunk_median(gpt_3_models, \"GPT-4 Median of time between chunks\", \"misc/gpt_3_chunks_timing_median.png\")\n",
    "plot_models_time_per_chunk_median(gpt_4_models, \"GPT-3 Median of time between chunks\", \"misc/gpt_4_chunks_timing_median.png\")"
   ],
   "metadata": {
    "collapsed": false,
    "ExecuteTime": {
     "end_time": "2024-04-05T14:03:34.706275Z",
     "start_time": "2024-04-05T14:03:33.141802Z"
    }
   },
   "id": "a74b69485aa9b555",
   "execution_count": 699
  },
  {
   "cell_type": "code",
   "outputs": [],
   "source": [
    "def plot_models_bar_chart(_models, col_name, col_title, file_name, use_median=True):\n",
    "\n",
    "    plt.figure(figsize=(16, 9), dpi=300)\n",
    "    \n",
    "    labels = []\n",
    "    values = []\n",
    "    \n",
    "    for model in _models:\n",
    "        for provider in providers:\n",
    "            column_name = f'{provider}_{model} {col_name}'\n",
    "            success_column_name = f'{provider}_{model} success'\n",
    "            \n",
    "            if column_name not in df.columns:\n",
    "                continue\n",
    "                \n",
    "            filtered_df = df[df[success_column_name] == True]\n",
    "            \n",
    "            # print(filtered_df[column_name].values)\n",
    "            \n",
    "            labels.append(f'{provider} {model}')\n",
    "            \n",
    "            if use_median:\n",
    "                values.append(median(filtered_df[column_name].values))\n",
    "            else:\n",
    "                values.append(mean(filtered_df[column_name].values))\n",
    "\n",
    "    sns.barplot(x=labels, y=values)\n",
    "\n",
    "    \n",
    "    plt.ylabel('Seconds')\n",
    "    plt.title(col_title)\n",
    "    plt.savefig(file_name)\n",
    "    plt.close()\n"
   ],
   "metadata": {
    "collapsed": false,
    "ExecuteTime": {
     "end_time": "2024-04-05T14:03:34.711097Z",
     "start_time": "2024-04-05T14:03:34.707260Z"
    }
   },
   "id": "1b020a5a1555e564",
   "execution_count": 700
  },
  {
   "cell_type": "code",
   "outputs": [],
   "source": [
    "plot_models_bar_chart(gpt_3_models, \"first_token_time_seconds\", \"GPT-3 Median time for first token\", \"misc/gpt_3_first_token_time_seconds_bar_median.png\")\n",
    "plot_models_bar_chart(gpt_4_models, \"first_token_time_seconds\", \"GPT-4 Median time for first token\", \"misc/gpt_4_first_token_time_seconds_bar_median.png\")"
   ],
   "metadata": {
    "collapsed": false,
    "ExecuteTime": {
     "end_time": "2024-04-05T14:03:36.120846Z",
     "start_time": "2024-04-05T14:03:34.711885Z"
    }
   },
   "id": "98d45887281733a3",
   "execution_count": 701
  },
  {
   "cell_type": "code",
   "outputs": [],
   "source": [
    "plot_models_bar_chart(gpt_3_models, \"first_sentence_time_seconds\", \"GPT-3 Median time for first finished sentence\", \"misc/gpt_3_first_sentence_time_seconds_bar_median.png\")\n",
    "plot_models_bar_chart(gpt_4_models, \"first_sentence_time_seconds\", \"GPT-4 Median time for first finished sentence\", \"misc/gpt_4_first_sentence_time_seconds_bar_median.png\")"
   ],
   "metadata": {
    "collapsed": false,
    "ExecuteTime": {
     "end_time": "2024-04-05T14:03:37.585681Z",
     "start_time": "2024-04-05T14:03:36.122290Z"
    }
   },
   "id": "640d1254b62e90a1",
   "execution_count": 702
  },
  {
   "cell_type": "code",
   "outputs": [],
   "source": [
    "plot_models_bar_chart(gpt_3_models, \"total_request_time_seconds\", \"GPT-3 Median time for complete request\", \"misc/gpt_3_total_request_time_seconds_bar_median.png\")\n",
    "plot_models_bar_chart(gpt_4_models, \"total_request_time_seconds\", \"GPT-4 Median time for complete request\", \"misc/gpt_4_total_request_time_seconds_bar_median.png\")"
   ],
   "metadata": {
    "collapsed": false,
    "ExecuteTime": {
     "end_time": "2024-04-05T14:03:38.970551Z",
     "start_time": "2024-04-05T14:03:37.587990Z"
    }
   },
   "id": "3c5f4a4d4b880ea2",
   "execution_count": 703
  },
  {
   "cell_type": "code",
   "outputs": [],
   "source": [
    "plot_models_bar_chart(gpt_3_models, \"first_token_time_seconds\", \"GPT-3 Mean time for first token\", \"misc/gpt_3_first_token_time_seconds_bar_mean.png\", use_median=False)\n",
    "plot_models_bar_chart(gpt_4_models, \"first_token_time_seconds\", \"GPT-4 Mean time for first token\", \"misc/gpt_4_first_token_time_seconds_bar_mean.png\", use_median=False)"
   ],
   "metadata": {
    "collapsed": false,
    "ExecuteTime": {
     "end_time": "2024-04-05T14:03:40.420342Z",
     "start_time": "2024-04-05T14:03:38.971214Z"
    }
   },
   "id": "d3c757a239dff199",
   "execution_count": 704
  },
  {
   "cell_type": "code",
   "outputs": [],
   "source": [
    "plot_models_bar_chart(gpt_3_models, \"first_sentence_time_seconds\", \"GPT-3 Mean time for first finished sentence\", \"misc/gpt_3_first_sentence_time_seconds_bar_mean.png\", use_median=False)\n",
    "plot_models_bar_chart(gpt_4_models, \"first_sentence_time_seconds\", \"GPT-4 Mean time for first finished sentence\", \"misc/gpt_4_first_sentence_time_seconds_bar_mean.png\", use_median=False)"
   ],
   "metadata": {
    "collapsed": false,
    "ExecuteTime": {
     "end_time": "2024-04-05T14:03:41.825137Z",
     "start_time": "2024-04-05T14:03:40.421607Z"
    }
   },
   "id": "86e0b5e67db351d9",
   "execution_count": 705
  },
  {
   "cell_type": "code",
   "outputs": [],
   "source": [
    "plot_models_bar_chart(gpt_3_models, \"total_request_time_seconds\", \"GPT-3 Mean time for complete request\", \"misc/gpt_3_total_request_time_seconds_bar_mean.png\", use_median=False)\n",
    "plot_models_bar_chart(gpt_4_models, \"total_request_time_seconds\", \"GPT-4 Mean time for complete request\", \"misc/gpt_4_total_request_time_seconds_bar_mean.png\", use_median=False)"
   ],
   "metadata": {
    "collapsed": false,
    "ExecuteTime": {
     "end_time": "2024-04-05T14:03:43.254166Z",
     "start_time": "2024-04-05T14:03:41.826416Z"
    }
   },
   "id": "45c3e83e8a5f110f",
   "execution_count": 706
  },
  {
   "cell_type": "code",
   "outputs": [],
   "source": [
    "def plot_stacked_model(_provider_left, _model_left, _provider_right, _model_right, file_name):\n",
    "    success_column_name = f'{_provider_left}_{_model_left} success'\n",
    "    filtered_df = df[df[success_column_name] == True]\n",
    "    \n",
    "    total_first_token_column_name_left = f'{_provider_left}_{_model_left} first_token_time_seconds'\n",
    "    total_first_sentence_column_name_left = f'{_provider_left}_{_model_left} first_sentence_time_seconds'\n",
    "    total_time_column_name_left = f'{_provider_left}_{_model_left} total_request_time_seconds'\n",
    "    \n",
    "    total_first_token_column_name_right = f'{_provider_right}_{_model_right} first_token_time_seconds'\n",
    "    total_first_sentence_column_name_right = f'{_provider_right}_{_model_right} first_sentence_time_seconds'\n",
    "    total_time_column_name_right = f'{_provider_right}_{_model_right} total_request_time_seconds'\n",
    "    \n",
    "    new_df_left = pd.DataFrame()\n",
    "    new_df_left['timestamp'] = filtered_df['timestamp']\n",
    "    new_df_left['first_token_column_name'] = filtered_df[total_first_token_column_name_left]\n",
    "    new_df_left['first_sentence_time_seconds'] = filtered_df[total_first_sentence_column_name_left] - filtered_df[total_first_token_column_name_left]\n",
    "    new_df_left['remaining_time_seconds'] = filtered_df[total_time_column_name_left] - filtered_df[total_first_sentence_column_name_left] - filtered_df[total_first_token_column_name_left]\n",
    "    \n",
    "    new_df_right = pd.DataFrame()\n",
    "    new_df_right['timestamp'] = filtered_df['timestamp']\n",
    "    new_df_right['first_token_column_name'] = filtered_df[total_first_token_column_name_right]\n",
    "    new_df_right['first_sentence_time_seconds'] = filtered_df[total_first_sentence_column_name_right] - filtered_df[total_first_token_column_name_right]\n",
    "    new_df_right['remaining_time_seconds'] = filtered_df[total_time_column_name_right] - filtered_df[total_first_sentence_column_name_right] - filtered_df[total_first_token_column_name_right]\n",
    "    \n",
    "\n",
    "    fig, axs = plt.subplots(1, 2, figsize=(20, 6), sharey='row',  dpi=300) \n",
    "\n",
    "    # Left model plot\n",
    "    axs[0].stackplot(\n",
    "        new_df_left['timestamp'], \n",
    "        new_df_left['first_token_column_name'], \n",
    "        new_df_left['first_sentence_time_seconds'], \n",
    "        new_df_left['remaining_time_seconds'], \n",
    "        labels=['First token', 'First finished sentence', 'Remaining time']\n",
    "    )\n",
    "    axs[0].xaxis.set_major_formatter(matplotlib.dates.DateFormatter('%H:%M UTC'))\n",
    "    axs[0].legend(loc='upper left')\n",
    "    axs[0].set_title(f'Stacked Time Components for {_provider_left} {_model_left}')\n",
    "    axs[0].set_ylabel('Seconds')\n",
    "    axs[0].tick_params(axis='x', rotation=45)\n",
    "\n",
    "    axs[1].stackplot(\n",
    "        new_df_right['timestamp'], \n",
    "        new_df_right['first_token_column_name'], \n",
    "        new_df_right['first_sentence_time_seconds'], \n",
    "        new_df_right['remaining_time_seconds'], \n",
    "        labels=['First token', 'First finished sentence', 'Remaining Time']\n",
    "    )\n",
    "    axs[1].xaxis.set_major_formatter(matplotlib.dates.DateFormatter('%H:%M UTC'))\n",
    "    axs[1].legend(loc='upper left')\n",
    "    axs[1].set_title(f'Stacked Time Components for {_provider_right} {_model_right}')\n",
    "    axs[1].set_ylabel('Seconds')\n",
    "    axs[1].tick_params(axis='x', rotation=45)\n",
    "\n",
    "    plt.tight_layout()\n",
    "    plt.savefig(file_name)\n",
    "    plt.close()\n",
    "    plt.show()\n",
    "    \n",
    "\n",
    "plot_stacked_model(\"OpenAI\", \"gpt-4-1106-preview\", \"Azure\", \"gpt-4-1106-preview\", \"misc/compare_azure_openai_gpt-4-1106-preview.png\")\n",
    "plot_stacked_model(\"OpenAI\", \"gpt-3.5-turbo-0613\", \"Azure\", \"gpt-3.5-turbo-0613\", \"misc/compare_azure_openai_gpt-3.5-turbo-0125.png\")"
   ],
   "metadata": {
    "collapsed": false,
    "ExecuteTime": {
     "end_time": "2024-04-05T14:03:45.000767Z",
     "start_time": "2024-04-05T14:03:43.254864Z"
    }
   },
   "id": "dac1155d2354b2b8",
   "execution_count": 707
  },
  {
   "cell_type": "code",
   "outputs": [],
   "source": [],
   "metadata": {
    "collapsed": false,
    "ExecuteTime": {
     "end_time": "2024-04-05T14:03:45.007709Z",
     "start_time": "2024-04-05T14:03:45.006155Z"
    }
   },
   "id": "e60d4a45958abe89",
   "execution_count": 707
  }
 ],
 "metadata": {
  "kernelspec": {
   "display_name": "Python 3",
   "language": "python",
   "name": "python3"
  },
  "language_info": {
   "codemirror_mode": {
    "name": "ipython",
    "version": 2
   },
   "file_extension": ".py",
   "mimetype": "text/x-python",
   "name": "python",
   "nbconvert_exporter": "python",
   "pygments_lexer": "ipython2",
   "version": "2.7.6"
  }
 },
 "nbformat": 4,
 "nbformat_minor": 5
}
